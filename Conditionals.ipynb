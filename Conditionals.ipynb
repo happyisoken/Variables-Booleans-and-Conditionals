{
 "cells": [
  {
   "cell_type": "code",
   "execution_count": 5,
   "id": "fac2f585-9bdc-4edf-b890-f3c4b0fc3f7d",
   "metadata": {},
   "outputs": [
    {
     "name": "stdout",
     "output_type": "stream",
     "text": [
      "language is python\n"
     ]
    }
   ],
   "source": [
    "language = 'python'\n",
    "if language =='python': \n",
    "    print('language is python')\n",
    "elif language =='Java':\n",
    "        print('language is Java')\n",
    "else:\n",
    "        print('no match')"
   ]
  },
  {
   "cell_type": "code",
   "execution_count": 6,
   "id": "1857f15e-4a31-43eb-b4c6-ea41dcb218f0",
   "metadata": {},
   "outputs": [
    {
     "name": "stdout",
     "output_type": "stream",
     "text": [
      "conditional is true\n"
     ]
    }
   ],
   "source": [
    "language = 'python'\n",
    "if language =='python':\n",
    "    print('conditional is true')"
   ]
  },
  {
   "cell_type": "code",
   "execution_count": 12,
   "id": "59074be8-2e15-482f-ab79-1d1ce6b06ba6",
   "metadata": {},
   "outputs": [
    {
     "name": "stdout",
     "output_type": "stream",
     "text": [
      "language is Java\n"
     ]
    }
   ],
   "source": [
    "language = 'Java'\n",
    "if language == \"python\":\n",
    "    print('language is python')\n",
    "elif language == 'Java':\n",
    "    print('language is Java')\n",
    "else: \n",
    "    print('no match')"
   ]
  },
  {
   "cell_type": "code",
   "execution_count": 15,
   "id": "d007cb3f-3714-4022-a698-150c48ee1909",
   "metadata": {},
   "outputs": [
    {
     "name": "stdout",
     "output_type": "stream",
     "text": [
      "False\n"
     ]
    }
   ],
   "source": [
    "user = 'Admin'\n",
    "logged_in = 'True'\n",
    "if user == 'Isoken and logged_in':\n",
    "    print('Admin page')\n",
    "else:\n",
    "    print('False')"
   ]
  },
  {
   "cell_type": "code",
   "execution_count": 17,
   "id": "9aae0f6f-c4e1-40b8-b898-b33a32f578e7",
   "metadata": {},
   "outputs": [
    {
     "name": "stdout",
     "output_type": "stream",
     "text": [
      "True\n"
     ]
    }
   ],
   "source": [
    "x = [1, 2, 3]\n",
    "y = [1, 2, 3]\n",
    "print(x==y)"
   ]
  },
  {
   "cell_type": "code",
   "execution_count": 18,
   "id": "2365ffc3-8b77-4837-8ed1-4227cbd9dfad",
   "metadata": {},
   "outputs": [
    {
     "name": "stdout",
     "output_type": "stream",
     "text": [
      "False\n"
     ]
    }
   ],
   "source": [
    "print(x is y)"
   ]
  },
  {
   "cell_type": "code",
   "execution_count": 19,
   "id": "4a2332a8-71e5-4b06-ba1b-33b15788a269",
   "metadata": {},
   "outputs": [
    {
     "name": "stdout",
     "output_type": "stream",
     "text": [
      "2840642805120\n",
      "2840643524096\n",
      "False\n"
     ]
    }
   ],
   "source": [
    "print(id(x))\n",
    "print(id(y))\n",
    "print(x is y)"
   ]
  },
  {
   "cell_type": "code",
   "execution_count": 20,
   "id": "392df47c-1193-4efb-9792-602c94e9445a",
   "metadata": {},
   "outputs": [
    {
     "name": "stdout",
     "output_type": "stream",
     "text": [
      "False\n"
     ]
    }
   ],
   "source": [
    "print(id(x)==id(y))"
   ]
  },
  {
   "cell_type": "code",
   "execution_count": null,
   "id": "3616a167-320b-499b-a95c-763f7ea758fb",
   "metadata": {},
   "outputs": [],
   "source": []
  }
 ],
 "metadata": {
  "kernelspec": {
   "display_name": "Python 3 (ipykernel)",
   "language": "python",
   "name": "python3"
  },
  "language_info": {
   "codemirror_mode": {
    "name": "ipython",
    "version": 3
   },
   "file_extension": ".py",
   "mimetype": "text/x-python",
   "name": "python",
   "nbconvert_exporter": "python",
   "pygments_lexer": "ipython3",
   "version": "3.9.7"
  }
 },
 "nbformat": 4,
 "nbformat_minor": 5
}
