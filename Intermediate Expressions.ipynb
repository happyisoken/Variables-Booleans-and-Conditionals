{
 "cells": [
  {
   "cell_type": "markdown",
   "id": "31db2d1c-8f57-440c-b49f-0e741718be6b",
   "metadata": {},
   "source": [
    "Numeric Expressions"
   ]
  },
  {
   "cell_type": "code",
   "execution_count": null,
   "id": "57b55c01-fdeb-4644-bad0-c034ae27b3f6",
   "metadata": {},
   "outputs": [],
   "source": [
    "# Numeric Operators\n",
    "+ - Addition\n",
    "- - Subtraction\n",
    "* - Multiplication\n",
    "/ - Division\n",
    "** - Power\n",
    "% - Remainder/Modulo operator"
   ]
  },
  {
   "cell_type": "markdown",
   "id": "0edf8a2c-b1cc-4b22-8958-25624098673e",
   "metadata": {},
   "source": [
    "Examples"
   ]
  },
  {
   "cell_type": "code",
   "execution_count": 1,
   "id": "73d64218-0aaa-4b93-81c6-e706c586819b",
   "metadata": {},
   "outputs": [
    {
     "name": "stdout",
     "output_type": "stream",
     "text": [
      "4\n"
     ]
    }
   ],
   "source": [
    "xx = 2\n",
    "xx = xx + 2\n",
    "print(xx)"
   ]
  },
  {
   "cell_type": "code",
   "execution_count": 2,
   "id": "44d629b6-2717-4260-965e-7d97319bbda0",
   "metadata": {},
   "outputs": [
    {
     "name": "stdout",
     "output_type": "stream",
     "text": [
      "5280\n"
     ]
    }
   ],
   "source": [
    "yy = 440 * 12\n",
    "print(yy)"
   ]
  },
  {
   "cell_type": "code",
   "execution_count": 3,
   "id": "3bb63c5d-ef0e-4e8d-a78f-7bf739e4eca2",
   "metadata": {},
   "outputs": [
    {
     "name": "stdout",
     "output_type": "stream",
     "text": [
      "5.28\n"
     ]
    }
   ],
   "source": [
    "zz = yy / 1000\n",
    "print(zz)"
   ]
  },
  {
   "cell_type": "code",
   "execution_count": 4,
   "id": "b62871b5-5ab8-4dd3-87ba-12889ac0e48e",
   "metadata": {},
   "outputs": [
    {
     "name": "stdout",
     "output_type": "stream",
     "text": [
      "3\n"
     ]
    }
   ],
   "source": [
    "jj = 23\n",
    "kk = jj % 5\n",
    "print(kk)"
   ]
  },
  {
   "cell_type": "code",
   "execution_count": 5,
   "id": "3c333062-df7f-4a09-86a9-9ea0d098e6f9",
   "metadata": {},
   "outputs": [
    {
     "name": "stdout",
     "output_type": "stream",
     "text": [
      "64\n"
     ]
    }
   ],
   "source": [
    "print(4**3)"
   ]
  },
  {
   "cell_type": "markdown",
   "id": "4e973e8e-d981-48e8-a59f-c566e86737ad",
   "metadata": {},
   "source": [
    "Order of Evaluation \n",
    "This is also called 'Operator precedence'\n",
    "It explains which operator takes precedence over the others"
   ]
  },
  {
   "cell_type": "markdown",
   "id": "d2b2a503-682f-412a-bbe7-d79c57d62229",
   "metadata": {},
   "source": [
    "Operator Precedence Rules:\n",
    ". Parenthesis are always respected\n",
    ". Followed by the ** Exponentiation (raised to power)\n",
    ". Multiplication, Division, and Remainder\n",
    ". Then Addition and Subtraction - left to right"
   ]
  },
  {
   "cell_type": "code",
   "execution_count": 8,
   "id": "603113d6-f5df-4f75-9afb-634aaeec13d8",
   "metadata": {},
   "outputs": [
    {
     "name": "stdout",
     "output_type": "stream",
     "text": [
      "11.0\n"
     ]
    }
   ],
   "source": [
    "x = 1 + 2 ** 3 / 4 * 5 \n",
    "print(x)"
   ]
  },
  {
   "cell_type": "markdown",
   "id": "e3a291de-4148-48e9-8127-08e546bde62c",
   "metadata": {},
   "source": [
    "What 'Type' means:\n",
    "In Python, variables, literals and constants have  a 'type'\n",
    "Python knows the difference between integer number and a string.\n",
    "The sign '+' means addition if something is a number/integer and 'concatenate' if something is a string\n",
    "Concatenate = put together"
   ]
  },
  {
   "cell_type": "code",
   "execution_count": 9,
   "id": "5f864fed-42a7-46f6-b7c6-779a31fc8027",
   "metadata": {},
   "outputs": [
    {
     "name": "stdout",
     "output_type": "stream",
     "text": [
      "5\n"
     ]
    }
   ],
   "source": [
    "ddd = 1 + 4\n",
    "print(ddd)"
   ]
  },
  {
   "cell_type": "code",
   "execution_count": 11,
   "id": "29127b07-3205-4c48-ba4a-44a93324f277",
   "metadata": {},
   "outputs": [
    {
     "name": "stdout",
     "output_type": "stream",
     "text": [
      "hello there\n"
     ]
    }
   ],
   "source": [
    "eee = 'hello ' + 'there'\n",
    "print(eee)"
   ]
  },
  {
   "cell_type": "markdown",
   "id": "90f48ea4-b08a-4ab3-a17a-8b90f0abe198",
   "metadata": {},
   "source": [
    "Type Matters\n",
    "Some operators are prohibited.\n",
    "You cannot add '1' to a string\n",
    "Type() function to ask python the type of something"
   ]
  },
  {
   "cell_type": "code",
   "execution_count": 12,
   "id": "8c57cf2d-8876-438d-bfae-0348e2f0146f",
   "metadata": {},
   "outputs": [
    {
     "data": {
      "text/plain": [
       "str"
      ]
     },
     "execution_count": 12,
     "metadata": {},
     "output_type": "execute_result"
    }
   ],
   "source": [
    "type(eee)"
   ]
  },
  {
   "cell_type": "code",
   "execution_count": 13,
   "id": "866241dc-4521-4c7b-b5ad-4d23a8a2a28e",
   "metadata": {},
   "outputs": [
    {
     "data": {
      "text/plain": [
       "str"
      ]
     },
     "execution_count": 13,
     "metadata": {},
     "output_type": "execute_result"
    }
   ],
   "source": [
    "type('hello')"
   ]
  },
  {
   "cell_type": "code",
   "execution_count": 14,
   "id": "3a38426a-4c11-485b-b3f8-f29b35e50f8a",
   "metadata": {},
   "outputs": [
    {
     "data": {
      "text/plain": [
       "int"
      ]
     },
     "execution_count": 14,
     "metadata": {},
     "output_type": "execute_result"
    }
   ],
   "source": [
    "type(1)"
   ]
  },
  {
   "cell_type": "markdown",
   "id": "e43d18fd-e49c-41f0-93ea-92c77409b60a",
   "metadata": {},
   "source": [
    "Several Types of Numbers\n",
    "There are two main types of Numbers\n",
    "Integers: These are whole numbers e.g -14, 0, 1, 100, 401233.\n",
    "Floating Point Numbers: These have decimals e.g -2.5, 98.6, 14.0"
   ]
  },
  {
   "cell_type": "code",
   "execution_count": 15,
   "id": "e2dbdf2c-1cf9-4fbc-827e-0d78c36d65a2",
   "metadata": {},
   "outputs": [
    {
     "data": {
      "text/plain": [
       "int"
      ]
     },
     "execution_count": 15,
     "metadata": {},
     "output_type": "execute_result"
    }
   ],
   "source": [
    "xx = 1\n",
    "type(xx)"
   ]
  },
  {
   "cell_type": "code",
   "execution_count": 16,
   "id": "bccce94a-c4c3-469e-92f6-cd5905f1fcb4",
   "metadata": {},
   "outputs": [
    {
     "data": {
      "text/plain": [
       "float"
      ]
     },
     "execution_count": 16,
     "metadata": {},
     "output_type": "execute_result"
    }
   ],
   "source": [
    "temp = 98.6\n",
    "type(temp)"
   ]
  },
  {
   "cell_type": "markdown",
   "id": "c6d8fbe6-d17a-4f2f-b0ce-83508c5ca5c9",
   "metadata": {},
   "source": [
    "Type conversion\n",
    "when an integer anf floating "
   ]
  }
 ],
 "metadata": {
  "kernelspec": {
   "display_name": "Python 3 (ipykernel)",
   "language": "python",
   "name": "python3"
  },
  "language_info": {
   "codemirror_mode": {
    "name": "ipython",
    "version": 3
   },
   "file_extension": ".py",
   "mimetype": "text/x-python",
   "name": "python",
   "nbconvert_exporter": "python",
   "pygments_lexer": "ipython3",
   "version": "3.9.7"
  }
 },
 "nbformat": 4,
 "nbformat_minor": 5
}
