{
 "cells": [
  {
   "cell_type": "code",
   "execution_count": null,
   "id": "dd446992-db73-4750-8e21-f7a7e5ea0ece",
   "metadata": {},
   "outputs": [],
   "source": [
    "# Resreved words are special words\n",
    "# A variabe is a named place in the memory where a programmer can store data and later retrieve the data using the Variable name"
   ]
  },
  {
   "cell_type": "code",
   "execution_count": null,
   "id": "edf90660-b4ac-4a74-b302-c436719e7304",
   "metadata": {},
   "outputs": [],
   "source": [
    "# Examples\n",
    "x = 12.2\n",
    "y = 14\n",
    "x= 100"
   ]
  },
  {
   "cell_type": "code",
   "execution_count": null,
   "id": "8b1a9ec8-a85b-4fca-906f-5dec4246e119",
   "metadata": {},
   "outputs": [],
   "source": [
    "# Variables must start with a letter or underscore_\n",
    "# Must consist of letters, numbers and underscores\n",
    "# It is case sensitive"
   ]
  },
  {
   "cell_type": "code",
   "execution_count": 1,
   "id": "d7f7a1c4-e1a2-42d1-8782-927141a29c95",
   "metadata": {},
   "outputs": [
    {
     "name": "stdout",
     "output_type": "stream",
     "text": [
      "437.5\n"
     ]
    }
   ],
   "source": [
    "x1q3z9ocd = 35.0\n",
    "x1q3z9afd = 12.50\n",
    "x1q3p9afd = x1q3z9ocd * x1q3z9afd\n",
    "print (x1q3p9afd)"
   ]
  },
  {
   "cell_type": "code",
   "execution_count": 2,
   "id": "f24f4451-30ae-42df-9386-5941477c6929",
   "metadata": {},
   "outputs": [
    {
     "name": "stdout",
     "output_type": "stream",
     "text": [
      "437.5\n"
     ]
    }
   ],
   "source": [
    "a = 35.0\n",
    "b = 12.50\n",
    "c = a * b\n",
    "print(c)"
   ]
  },
  {
   "cell_type": "code",
   "execution_count": null,
   "id": "e74e8fc0-cd83-41c0-822f-49c787a4bf8a",
   "metadata": {},
   "outputs": [],
   "source": [
    "# python accepts any of the above but the first is long and inconvenient while the second is short and convenient."
   ]
  },
  {
   "cell_type": "code",
   "execution_count": null,
   "id": "265bf226-4781-4df4-ac7c-3e02c7962fc2",
   "metadata": {},
   "outputs": [],
   "source": [
    "# x = 2 -> Assignment statement\n",
    "# x = x + 2 -> Assignment with expression\n",
    "# print(x) -> Print statement"
   ]
  },
  {
   "cell_type": "code",
   "execution_count": null,
   "id": "776dfc85-ed75-448b-ae5c-33df144b5cb0",
   "metadata": {},
   "outputs": [],
   "source": []
  }
 ],
 "metadata": {
  "kernelspec": {
   "display_name": "Python 3 (ipykernel)",
   "language": "python",
   "name": "python3"
  },
  "language_info": {
   "codemirror_mode": {
    "name": "ipython",
    "version": 3
   },
   "file_extension": ".py",
   "mimetype": "text/x-python",
   "name": "python",
   "nbconvert_exporter": "python",
   "pygments_lexer": "ipython3",
   "version": "3.9.7"
  },
  "toc-autonumbering": true,
  "toc-showcode": true,
  "toc-showmarkdowntxt": true
 },
 "nbformat": 4,
 "nbformat_minor": 5
}
